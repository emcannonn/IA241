{
 "cells": [
  {
   "cell_type": "code",
   "execution_count": 1,
   "metadata": {},
   "outputs": [],
   "source": [
    "import json\n",
    "from pprint import pprint"
   ]
  },
  {
   "cell_type": "code",
   "execution_count": 2,
   "metadata": {},
   "outputs": [],
   "source": [
    "str_data = open('demo.json'). read()"
   ]
  },
  {
   "cell_type": "code",
   "execution_count": 3,
   "metadata": {},
   "outputs": [
    {
     "name": "stdout",
     "output_type": "stream",
     "text": [
      "{\n",
      "   \"share\": {\n",
      "      \"comment_count\": 0,\n",
      "      \"share_count\": 7657\n",
      "   },\n",
      "   \"og_object\": {\n",
      "      \"id\": \"704684182917256\",\n",
      "      \"description\": \"Welcome to the James Madison University website\",\n",
      "      \"title\": \"JMU Homepage\",\n",
      "      \"type\": \"website\",\n",
      "      \"updated_time\": \"2018-02-10T03:45:42+0000\"\n",
      "   },\n",
      "   \"id\": \"http://www.jmu.edu\"\n",
      "}\n"
     ]
    }
   ],
   "source": [
    "print(str_data)"
   ]
  },
  {
   "cell_type": "code",
   "execution_count": 4,
   "metadata": {},
   "outputs": [
    {
     "data": {
      "text/plain": [
       "str"
      ]
     },
     "execution_count": 4,
     "metadata": {},
     "output_type": "execute_result"
    }
   ],
   "source": [
    "type(str_data)"
   ]
  },
  {
   "cell_type": "code",
   "execution_count": 5,
   "metadata": {},
   "outputs": [],
   "source": [
    "json_data = json.loads(str_data)"
   ]
  },
  {
   "cell_type": "code",
   "execution_count": 6,
   "metadata": {},
   "outputs": [
    {
     "data": {
      "text/plain": [
       "dict"
      ]
     },
     "execution_count": 6,
     "metadata": {},
     "output_type": "execute_result"
    }
   ],
   "source": [
    "type(json_data)"
   ]
  },
  {
   "cell_type": "code",
   "execution_count": 7,
   "metadata": {},
   "outputs": [
    {
     "name": "stdout",
     "output_type": "stream",
     "text": [
      "{'share': {'comment_count': 0, 'share_count': 7657}, 'og_object': {'id': '704684182917256', 'description': 'Welcome to the James Madison University website', 'title': 'JMU Homepage', 'type': 'website', 'updated_time': '2018-02-10T03:45:42+0000'}, 'id': 'http://www.jmu.edu'}\n"
     ]
    }
   ],
   "source": [
    "print(json_data)"
   ]
  },
  {
   "cell_type": "code",
   "execution_count": 8,
   "metadata": {},
   "outputs": [
    {
     "name": "stdout",
     "output_type": "stream",
     "text": [
      "{'id': 'http://www.jmu.edu',\n",
      " 'og_object': {'description': 'Welcome to the James Madison University website',\n",
      "               'id': '704684182917256',\n",
      "               'title': 'JMU Homepage',\n",
      "               'type': 'website',\n",
      "               'updated_time': '2018-02-10T03:45:42+0000'},\n",
      " 'share': {'comment_count': 0, 'share_count': 7657}}\n"
     ]
    }
   ],
   "source": [
    "pprint(json_data)"
   ]
  },
  {
   "cell_type": "code",
   "execution_count": 9,
   "metadata": {},
   "outputs": [
    {
     "name": "stdout",
     "output_type": "stream",
     "text": [
      "7657\n"
     ]
    }
   ],
   "source": [
    "print (json_data['share']['share_count'])"
   ]
  },
  {
   "cell_type": "code",
   "execution_count": 10,
   "metadata": {},
   "outputs": [
    {
     "name": "stdout",
     "output_type": "stream",
     "text": [
      "http://www.jmu.edu\n"
     ]
    }
   ],
   "source": [
    "print (json_data['id'])"
   ]
  },
  {
   "cell_type": "code",
   "execution_count": 11,
   "metadata": {},
   "outputs": [],
   "source": [
    "url = 'http://www.jmu.edu'\n",
    "\n"
   ]
  },
  {
   "cell_type": "code",
   "execution_count": 12,
   "metadata": {},
   "outputs": [],
   "source": [
    "import urllib.request\n",
    "\n",
    "response = urllib.request.urlopen(url)"
   ]
  },
  {
   "cell_type": "markdown",
   "metadata": {},
   "source": [
    "# q1 Max pop"
   ]
  },
  {
   "cell_type": "code",
   "execution_count": 4,
   "metadata": {},
   "outputs": [
    {
     "name": "stdout",
     "output_type": "stream",
     "text": [
      "['B01001_001E', 'B01001_002E', 'NAME', 'state', 'county']\n",
      "1132887\n",
      "Fairfax County, Virginia\n"
     ]
    }
   ],
   "source": [
    "from urllib import request\n",
    "import json\n",
    "from pprint import pprint\n",
    "\n",
    "\n",
    "census_api_key = '8ae525943ce8327bbb332dfebcfcd84f6720ebfc' #get your key from https://api.census.gov/data/key_signup.html\n",
    "\n",
    "\n",
    "url_str = 'https://api.census.gov/data/2016/acs/acs5?get=B01001_001E,B01001_002E,NAME&for=county:*&in=state:51&key='+census_api_key # create the url of your census data\n",
    "\n",
    "response = request.urlopen(url_str) # read the response into computer\n",
    "\n",
    "html_str = response.read().decode(\"utf-8\") # convert the response into string\n",
    "\n",
    "pop_max=0\n",
    "male_max=0\n",
    "county_max=''\n",
    "if (html_str):\n",
    "   json_data = json.loads(html_str) # convert the string into json\n",
    "   print (json_data[0])\n",
    "   for v1,v2,name,state,county in json_data[1:]:\n",
    "       if pop_max< int(v1):\n",
    "           pop_max = int (v1)\n",
    "           county_max = name\n",
    "\n",
    "   print (pop_max)\n",
    "   print (county_max)\n"
   ]
  },
  {
   "cell_type": "markdown",
   "metadata": {},
   "source": [
    "# q2 Max male"
   ]
  },
  {
   "cell_type": "code",
   "execution_count": 6,
   "metadata": {},
   "outputs": [
    {
     "name": "stdout",
     "output_type": "stream",
     "text": [
      "['B01001_001E', 'B01001_002E', 'NAME', 'state', 'county']\n",
      "560803\n",
      "Fairfax County, Virginia\n"
     ]
    }
   ],
   "source": [
    "from urllib import request\n",
    "import json\n",
    "from pprint import pprint\n",
    "\n",
    "\n",
    "census_api_key = '8ae525943ce8327bbb332dfebcfcd84f6720ebfc' #get your key from https://api.census.gov/data/key_signup.html\n",
    "\n",
    "\n",
    "url_str = 'https://api.census.gov/data/2016/acs/acs5?get=B01001_001E,B01001_002E,NAME&for=county:*&in=state:51&key='+census_api_key # create the url of your census data\n",
    "\n",
    "response = request.urlopen(url_str) # read the response into computer\n",
    "\n",
    "html_str = response.read().decode(\"utf-8\") # convert the response into string\n",
    "\n",
    "pop_max=0\n",
    "male_max=0\n",
    "county_max=''\n",
    "if (html_str):\n",
    "   json_data = json.loads(html_str) # convert the string into json\n",
    "   print (json_data[0])\n",
    "   for v1,v2,name,state,county in json_data[1:]:\n",
    "       if male_max< int(v2):\n",
    "           male_max = int (v2)\n",
    "           county_max = name\n",
    "\n",
    "   print (male_max)\n",
    "   print (county_max)\n"
   ]
  },
  {
   "cell_type": "markdown",
   "metadata": {},
   "source": [
    "# q3 Ratio"
   ]
  },
  {
   "cell_type": "code",
   "execution_count": 9,
   "metadata": {},
   "outputs": [
    {
     "name": "stdout",
     "output_type": "stream",
     "text": [
      "['B01001_001E', 'B01001_002E', 'NAME', 'state', 'county']\n",
      "0.6575470894059491\n",
      "Sussex County, Virginia\n"
     ]
    }
   ],
   "source": [
    "from urllib import request\n",
    "import json\n",
    "from pprint import pprint\n",
    "\n",
    "\n",
    "census_api_key = '8ae525943ce8327bbb332dfebcfcd84f6720ebfc' #get your key from https://api.census.gov/data/key_signup.html\n",
    "\n",
    "\n",
    "url_str = 'https://api.census.gov/data/2016/acs/acs5?get=B01001_001E,B01001_002E,NAME&for=county:*&in=state:51&key='+census_api_key # create the url of your census data\n",
    "\n",
    "response = request.urlopen(url_str) # read the response into computer\n",
    "\n",
    "html_str = response.read().decode(\"utf-8\") # convert the response into string\n",
    "\n",
    "pop_max=0\n",
    "male_max=0\n",
    "ratio_max=0\n",
    "county_max=''\n",
    "if (html_str):\n",
    "   json_data = json.loads(html_str) # convert the string into json\n",
    "   print (json_data[0])\n",
    "   for v1,v2,name,state,county in json_data[1:]:\n",
    "       if ratio_max<(int(v2)/int(v1)):\n",
    "           ratio_max = (int(v2)/int(v1))\n",
    "           county_max = name\n",
    "\n",
    "   print (ratio_max)\n",
    "   print (county_max)\n"
   ]
  }
 ],
 "metadata": {
  "kernelspec": {
   "display_name": "conda_python3",
   "language": "python",
   "name": "conda_python3"
  },
  "language_info": {
   "codemirror_mode": {
    "name": "ipython",
    "version": 3
   },
   "file_extension": ".py",
   "mimetype": "text/x-python",
   "name": "python",
   "nbconvert_exporter": "python",
   "pygments_lexer": "ipython3",
   "version": "3.6.5"
  }
 },
 "nbformat": 4,
 "nbformat_minor": 4
}
